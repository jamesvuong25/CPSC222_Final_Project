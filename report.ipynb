{
 "cells": [
  {
   "cell_type": "markdown",
   "metadata": {},
   "source": [
    "## Sleep and Study Correlation"
   ]
  },
  {
   "cell_type": "markdown",
   "metadata": {},
   "source": [
    "##### James Vuong \n",
    "##### CPSC 222, Fall 2021"
   ]
  },
  {
   "cell_type": "markdown",
   "metadata": {},
   "source": [
    "### Introduction\n",
    "I chose the topic of my sleep data because I value sleep a lot, and like many other college students, I've noticed that my courseload and homework have had a direct impact on the amount of sleep I get each night. For the most part, on days that I have a lot of homework, I also noticed that the total hours of sleep for that night was lower than normal."
   ]
  }
 ],
 "metadata": {
  "language_info": {
   "name": "python"
  },
  "orig_nbformat": 4
 },
 "nbformat": 4,
 "nbformat_minor": 2
}
